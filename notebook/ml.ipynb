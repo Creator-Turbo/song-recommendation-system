{
 "cells": [
  {
   "cell_type": "markdown",
   "metadata": {},
   "source": [
    "song recommendation system"
   ]
  },
  {
   "cell_type": "code",
   "execution_count": 76,
   "metadata": {},
   "outputs": [],
   "source": [
    "import pandas as pd\n",
    "import numpy as np\n",
    "from sklearn.metrics.pairwise import cosine_similarity\n",
    "from ydata_profiling import ProfileReport\n",
    "\n",
    "\n",
    "# text preprocessing \n",
    "import re\n",
    "import string\n",
    "from sklearn.feature_extraction.text import TfidfVectorizer\n",
    "import nltk\n",
    "from nltk.corpus import stopwords\n",
    "from nltk.tokenize import word_tokenize\n",
    "from nltk.stem import WordNetLemmatizer\n",
    "\n",
    "## dorp the model in pickle \n",
    "import pickle\n"
   ]
  },
  {
   "cell_type": "markdown",
   "metadata": {},
   "source": [
    "#  Load the dataset"
   ]
  },
  {
   "cell_type": "code",
   "execution_count": 2,
   "metadata": {},
   "outputs": [],
   "source": [
    "# Load the dataset (Replace 'songs.csv' with your actual dataset)\n",
    "song_rec = pd.read_csv('D:\\\\song-recommendation-system\\\\data\\\\spotify_millsongdata.csv')"
   ]
  },
  {
   "cell_type": "code",
   "execution_count": 3,
   "metadata": {},
   "outputs": [
    {
     "data": {
      "text/html": [
       "<div>\n",
       "<style scoped>\n",
       "    .dataframe tbody tr th:only-of-type {\n",
       "        vertical-align: middle;\n",
       "    }\n",
       "\n",
       "    .dataframe tbody tr th {\n",
       "        vertical-align: top;\n",
       "    }\n",
       "\n",
       "    .dataframe thead th {\n",
       "        text-align: right;\n",
       "    }\n",
       "</style>\n",
       "<table border=\"1\" class=\"dataframe\">\n",
       "  <thead>\n",
       "    <tr style=\"text-align: right;\">\n",
       "      <th></th>\n",
       "      <th>artist</th>\n",
       "      <th>song</th>\n",
       "      <th>link</th>\n",
       "      <th>text</th>\n",
       "    </tr>\n",
       "  </thead>\n",
       "  <tbody>\n",
       "    <tr>\n",
       "      <th>0</th>\n",
       "      <td>ABBA</td>\n",
       "      <td>Ahe's My Kind Of Girl</td>\n",
       "      <td>/a/abba/ahes+my+kind+of+girl_20598417.html</td>\n",
       "      <td>Look at her face, it's a wonderful face  \\r\\nA...</td>\n",
       "    </tr>\n",
       "    <tr>\n",
       "      <th>1</th>\n",
       "      <td>ABBA</td>\n",
       "      <td>Andante, Andante</td>\n",
       "      <td>/a/abba/andante+andante_20002708.html</td>\n",
       "      <td>Take it easy with me, please  \\r\\nTouch me gen...</td>\n",
       "    </tr>\n",
       "    <tr>\n",
       "      <th>2</th>\n",
       "      <td>ABBA</td>\n",
       "      <td>As Good As New</td>\n",
       "      <td>/a/abba/as+good+as+new_20003033.html</td>\n",
       "      <td>I'll never know why I had to go  \\r\\nWhy I had...</td>\n",
       "    </tr>\n",
       "    <tr>\n",
       "      <th>3</th>\n",
       "      <td>ABBA</td>\n",
       "      <td>Bang</td>\n",
       "      <td>/a/abba/bang_20598415.html</td>\n",
       "      <td>Making somebody happy is a question of give an...</td>\n",
       "    </tr>\n",
       "    <tr>\n",
       "      <th>4</th>\n",
       "      <td>ABBA</td>\n",
       "      <td>Bang-A-Boomerang</td>\n",
       "      <td>/a/abba/bang+a+boomerang_20002668.html</td>\n",
       "      <td>Making somebody happy is a question of give an...</td>\n",
       "    </tr>\n",
       "  </tbody>\n",
       "</table>\n",
       "</div>"
      ],
      "text/plain": [
       "  artist                   song                                        link  \\\n",
       "0   ABBA  Ahe's My Kind Of Girl  /a/abba/ahes+my+kind+of+girl_20598417.html   \n",
       "1   ABBA       Andante, Andante       /a/abba/andante+andante_20002708.html   \n",
       "2   ABBA         As Good As New        /a/abba/as+good+as+new_20003033.html   \n",
       "3   ABBA                   Bang                  /a/abba/bang_20598415.html   \n",
       "4   ABBA       Bang-A-Boomerang      /a/abba/bang+a+boomerang_20002668.html   \n",
       "\n",
       "                                                text  \n",
       "0  Look at her face, it's a wonderful face  \\r\\nA...  \n",
       "1  Take it easy with me, please  \\r\\nTouch me gen...  \n",
       "2  I'll never know why I had to go  \\r\\nWhy I had...  \n",
       "3  Making somebody happy is a question of give an...  \n",
       "4  Making somebody happy is a question of give an...  "
      ]
     },
     "execution_count": 3,
     "metadata": {},
     "output_type": "execute_result"
    }
   ],
   "source": [
    "song_rec.head()"
   ]
  },
  {
   "cell_type": "code",
   "execution_count": 29,
   "metadata": {},
   "outputs": [],
   "source": [
    "song_rec = song_rec.rename(columns={'text': 'song Lyrics', 'song': 'song_name','artist':'artist_name'})"
   ]
  },
  {
   "cell_type": "code",
   "execution_count": 24,
   "metadata": {},
   "outputs": [
    {
     "data": {
      "text/plain": [
       "(57650, 4)"
      ]
     },
     "execution_count": 24,
     "metadata": {},
     "output_type": "execute_result"
    }
   ],
   "source": [
    "song_rec.shape "
   ]
  },
  {
   "cell_type": "code",
   "execution_count": 25,
   "metadata": {},
   "outputs": [
    {
     "data": {
      "text/plain": [
       "Donna Summer        191\n",
       "Gordon Lightfoot    189\n",
       "Bob Dylan           188\n",
       "George Strait       188\n",
       "Loretta Lynn        187\n",
       "                   ... \n",
       "Zazie                 2\n",
       "Zed                   1\n",
       "Zoe                   1\n",
       "X-Treme               1\n",
       "U-Kiss                1\n",
       "Name: artist, Length: 643, dtype: int64"
      ]
     },
     "execution_count": 25,
     "metadata": {},
     "output_type": "execute_result"
    }
   ],
   "source": [
    "song_rec['artist'].value_counts()"
   ]
  },
  {
   "cell_type": "code",
   "execution_count": 32,
   "metadata": {},
   "outputs": [
    {
     "name": "stdout",
     "output_type": "stream",
     "text": [
      "<class 'pandas.core.frame.DataFrame'>\n",
      "RangeIndex: 57650 entries, 0 to 57649\n",
      "Data columns (total 4 columns):\n",
      " #   Column       Non-Null Count  Dtype \n",
      "---  ------       --------------  ----- \n",
      " 0   artist_name  57650 non-null  object\n",
      " 1   song_name    57650 non-null  object\n",
      " 2   link         57650 non-null  object\n",
      " 3   song Lyrics  57650 non-null  object\n",
      "dtypes: object(4)\n",
      "memory usage: 1.8+ MB\n"
     ]
    }
   ],
   "source": [
    "song_rec.info()"
   ]
  },
  {
   "cell_type": "code",
   "execution_count": 34,
   "metadata": {},
   "outputs": [
    {
     "name": "stdout",
     "output_type": "stream",
     "text": [
      "Total Missing Values: 0\n"
     ]
    }
   ],
   "source": [
    "total_nulls = song_rec.isnull().sum().sum()\n",
    "print(f\"Total Missing Values: {total_nulls}\")\n"
   ]
  },
  {
   "cell_type": "code",
   "execution_count": 37,
   "metadata": {},
   "outputs": [
    {
     "name": "stdout",
     "output_type": "stream",
     "text": [
      "Total Duplicate Rows: 0\n"
     ]
    }
   ],
   "source": [
    "\n",
    "# Check for duplicate rows\n",
    "duplicate_count = song_rec.duplicated().sum()\n",
    "print(f\"Total Duplicate Rows: {duplicate_count}\")"
   ]
  },
  {
   "cell_type": "code",
   "execution_count": 39,
   "metadata": {},
   "outputs": [],
   "source": [
    "\n",
    "# Drop a single column\n",
    "song_rec = song_rec.drop(columns=['link'])\n"
   ]
  },
  {
   "cell_type": "markdown",
   "metadata": {},
   "source": [
    "Text preprocessing "
   ]
  },
  {
   "cell_type": "code",
   "execution_count": 43,
   "metadata": {},
   "outputs": [],
   "source": [
    "# lower casing \n",
    "song_rec['song Lyrics'] = song_rec['song Lyrics'].str.lower()\n",
    "song_rec['song_name'] = song_rec['song_name'].str.lower()"
   ]
  },
  {
   "cell_type": "code",
   "execution_count": 52,
   "metadata": {},
   "outputs": [
    {
     "data": {
      "text/plain": [
       "\"here we are, seven days  \\r\\nand seven nights of empty tries  \\r\\nit's ritual, habitual  \\r\\nbut it's never gonna work this time  \\r\\n  \\r\\nwe're to the point of no return  \\r\\nand along the way the only thing we've learned  \\r\\nis how to hurt each other  \\r\\n  \\r\\ni'm looking back and wondering why  \\r\\nit took so long to realize  \\r\\nthat nothing's changed, it never will  \\r\\nall these years of standing still  \\r\\nand still we stay in all this pain  \\r\\nand nothing's gonna make it go away  \\r\\n  \\r\\ni don't wanna wait another minute  \\r\\nput me out of my misery  \\r\\ni can read your mind baby you're not in it  \\r\\nand we're not what we used to be  \\r\\nno you wouldn't have to lie to me  \\r\\nif you would only let me go  \\r\\nand i don't wanna wait another minute to hear  \\r\\nsomething that i already know  \\r\\ni know, i know, i know  \\r\\nsomething that i already know  \\r\\ni know, i know, i know  \\r\\n  \\r\\nso save your voice  \\r\\ndon't waste your breath  \\r\\ncan't you see we're at the end  \\r\\nand this goodbye is permanent  \\r\\nso wish me well and try to forget  \\r\\n  \\r\\nand all the fights  \\r\\nand all the ways  \\r\\nwe almost made it  \\r\\nbut we never did  \\r\\nand it's finally come to this  \\r\\n  \\r\\ni don't wanna wait another minute  \\r\\nput me out of my misery  \\r\\ni can read your mind baby you're not in it  \\r\\nand we're not what we used to be  \\r\\nno you wouldn't have to lie to me  \\r\\nif you would only let me go  \\r\\nand i don't wanna wait another minute to hear  \\r\\nsomething that i already know  \\r\\n  \\r\\nwe can not hide what we've become  \\r\\nso sick and tired of being numb  \\r\\nit's done, it's done  \\r\\nit's done  \\r\\n  \\r\\ni don't wanna wait another minute  \\r\\nput me out of my misery  \\r\\ni can read your mind baby you're not in it  \\r\\nand we're not what we used to be  \\r\\nno, you wouldn't have to lie to me  \\r\\nif you would only let me go  \\r\\nand i don't wanna wait another minute to hear  \\r\\nsomething that i already know  \\r\\ni know, i know, i know  \\r\\nsomething that i already know  \\r\\ni know, i know, i know  \\r\\nsomething that i already know  \\r\\n'cause i know, i know, i know  \\r\\n'cause i know, 'cause i know\\r\\n\\r\\n\""
      ]
     },
     "execution_count": 52,
     "metadata": {},
     "output_type": "execute_result"
    }
   ],
   "source": [
    "song_rec['song Lyrics'][1000]"
   ]
  },
  {
   "cell_type": "code",
   "execution_count": 55,
   "metadata": {},
   "outputs": [
    {
     "name": "stdout",
     "output_type": "stream",
     "text": [
      "!\"#$%&'()*+,-./:;<=>?@[\\]^_`{|}~\n"
     ]
    }
   ],
   "source": [
    "import string\n",
    "exclude  = string.punctuation\n",
    "print(exclude)"
   ]
  },
  {
   "cell_type": "code",
   "execution_count": 60,
   "metadata": {},
   "outputs": [],
   "source": [
    "# Remove punctuation from the 'Text' column\n",
    "song_rec['song Lyrics'] = song_rec['song Lyrics'].apply(lambda x: x.translate(str.maketrans('', '', string.punctuation)))\n",
    "song_rec['song_name'] = song_rec['song_name'].apply(lambda x: x.translate(str.maketrans('', '', string.punctuation)))"
   ]
  },
  {
   "cell_type": "code",
   "execution_count": 65,
   "metadata": {},
   "outputs": [
    {
     "data": {
      "text/html": [
       "<div>\n",
       "<style scoped>\n",
       "    .dataframe tbody tr th:only-of-type {\n",
       "        vertical-align: middle;\n",
       "    }\n",
       "\n",
       "    .dataframe tbody tr th {\n",
       "        vertical-align: top;\n",
       "    }\n",
       "\n",
       "    .dataframe thead th {\n",
       "        text-align: right;\n",
       "    }\n",
       "</style>\n",
       "<table border=\"1\" class=\"dataframe\">\n",
       "  <thead>\n",
       "    <tr style=\"text-align: right;\">\n",
       "      <th></th>\n",
       "      <th>artist_name</th>\n",
       "      <th>song_name</th>\n",
       "      <th>song Lyrics</th>\n",
       "    </tr>\n",
       "  </thead>\n",
       "  <tbody>\n",
       "    <tr>\n",
       "      <th>0</th>\n",
       "      <td>ABBA</td>\n",
       "      <td>ahes my kind of girl</td>\n",
       "      <td>look at her face its a wonderful face  \\r\\nand...</td>\n",
       "    </tr>\n",
       "    <tr>\n",
       "      <th>1</th>\n",
       "      <td>ABBA</td>\n",
       "      <td>andante andante</td>\n",
       "      <td>take it easy with me please  \\r\\ntouch me gent...</td>\n",
       "    </tr>\n",
       "    <tr>\n",
       "      <th>2</th>\n",
       "      <td>ABBA</td>\n",
       "      <td>as good as new</td>\n",
       "      <td>ill never know why i had to go  \\r\\nwhy i had ...</td>\n",
       "    </tr>\n",
       "    <tr>\n",
       "      <th>3</th>\n",
       "      <td>ABBA</td>\n",
       "      <td>bang</td>\n",
       "      <td>making somebody happy is a question of give an...</td>\n",
       "    </tr>\n",
       "    <tr>\n",
       "      <th>4</th>\n",
       "      <td>ABBA</td>\n",
       "      <td>bangaboomerang</td>\n",
       "      <td>making somebody happy is a question of give an...</td>\n",
       "    </tr>\n",
       "  </tbody>\n",
       "</table>\n",
       "</div>"
      ],
      "text/plain": [
       "  artist_name             song_name  \\\n",
       "0        ABBA  ahes my kind of girl   \n",
       "1        ABBA       andante andante   \n",
       "2        ABBA        as good as new   \n",
       "3        ABBA                  bang   \n",
       "4        ABBA        bangaboomerang   \n",
       "\n",
       "                                         song Lyrics  \n",
       "0  look at her face its a wonderful face  \\r\\nand...  \n",
       "1  take it easy with me please  \\r\\ntouch me gent...  \n",
       "2  ill never know why i had to go  \\r\\nwhy i had ...  \n",
       "3  making somebody happy is a question of give an...  \n",
       "4  making somebody happy is a question of give an...  "
      ]
     },
     "execution_count": 65,
     "metadata": {},
     "output_type": "execute_result"
    }
   ],
   "source": [
    "song_rec.head()"
   ]
  },
  {
   "cell_type": "code",
   "execution_count": 66,
   "metadata": {},
   "outputs": [
    {
     "data": {
      "text/plain": [
       "0        look at her face its a wonderful face  \\r\\nand...\n",
       "1        take it easy with me please  \\r\\ntouch me gent...\n",
       "2        ill never know why i had to go  \\r\\nwhy i had ...\n",
       "3        making somebody happy is a question of give an...\n",
       "4        making somebody happy is a question of give an...\n",
       "                               ...                        \n",
       "57645    irie days come on play  \\r\\nlet the angels fly...\n",
       "57646    power to the workers  \\r\\nmore power  \\r\\npowe...\n",
       "57647    all you need  \\r\\nis something ill believe  \\r...\n",
       "57648    northern star  \\r\\nam i frightened  \\r\\nwhere ...\n",
       "57649    come in  \\r\\nmake yourself at home  \\r\\nim a b...\n",
       "Name: song Lyrics, Length: 57650, dtype: object"
      ]
     },
     "execution_count": 66,
     "metadata": {},
     "output_type": "execute_result"
    }
   ],
   "source": [
    "song_rec['song Lyrics']"
   ]
  },
  {
   "cell_type": "code",
   "execution_count": 68,
   "metadata": {},
   "outputs": [
    {
     "data": {
      "text/plain": [
       "'look at her face its a wonderful face  \\r\\nand it means something special to me  \\r\\nlook at the way that she smiles when she sees me  \\r\\nhow lucky can one fellow be  \\r\\n  \\r\\nshes just my kind of girl she makes me feel fine  \\r\\nwho could ever believe that she could be mine  \\r\\nshes just my kind of girl without her im blue  \\r\\nand if she ever leaves me what could i do what could i do  \\r\\n  \\r\\nand when we go for a walk in the park  \\r\\nand she holds me and squeezes my hand  \\r\\nwell go on walking for hours and talking  \\r\\nabout all the things that we plan  \\r\\n  \\r\\nshes just my kind of girl she makes me feel fine  \\r\\nwho could ever believe that she could be mine  \\r\\nshes just my kind of girl without her im blue  \\r\\nand if she ever leaves me what could i do what could i do\\r\\n\\r\\n'"
      ]
     },
     "execution_count": 68,
     "metadata": {},
     "output_type": "execute_result"
    }
   ],
   "source": [
    "song_rec['song Lyrics'][0]"
   ]
  },
  {
   "cell_type": "code",
   "execution_count": 71,
   "metadata": {},
   "outputs": [],
   "source": [
    "# Function to clean spaces and newlines\n",
    "def clean_text(text):\n",
    "    return re.sub(r'\\s+', ' ', text).strip()  # Replaces multiple spaces/newlines with a single space\n",
    "\n",
    "# Apply function to the column\n",
    "song_rec['song Lyrics'] = song_rec['song Lyrics'].apply(clean_text)"
   ]
  },
  {
   "cell_type": "code",
   "execution_count": 72,
   "metadata": {},
   "outputs": [
    {
     "data": {
      "text/plain": [
       "'look at her face its a wonderful face and it means something special to me look at the way that she smiles when she sees me how lucky can one fellow be shes just my kind of girl she makes me feel fine who could ever believe that she could be mine shes just my kind of girl without her im blue and if she ever leaves me what could i do what could i do and when we go for a walk in the park and she holds me and squeezes my hand well go on walking for hours and talking about all the things that we plan shes just my kind of girl she makes me feel fine who could ever believe that she could be mine shes just my kind of girl without her im blue and if she ever leaves me what could i do what could i do'"
      ]
     },
     "execution_count": 72,
     "metadata": {},
     "output_type": "execute_result"
    }
   ],
   "source": [
    "song_rec['song Lyrics'][0]"
   ]
  },
  {
   "cell_type": "code",
   "execution_count": 75,
   "metadata": {},
   "outputs": [
    {
     "data": {
      "text/plain": [
       "'youre so hot teasing me so youre blue but i cant take a chance on a chick like you thats something i couldnt do theres that look in your eyes i can read in your face that your feelings are driving you wild ah but girl youre only a child well i can dance with you honey if you think its funny does your mother know that youre out and i can chat with you baby flirt a little maybe does your mother know that youre out take it easy take it easy better slow down girl thats no way to go does your mother know take it easy take it easy try to cool it girl take it nice and slow does your mother know i can see what you want but you seem pretty young to be searching for that kind of fun so maybe im not the one now youre so cute i like your style and i know what you mean when you give me a flash of that smile smile but girl youre only a child well i can dance with you honey if you think its funny does your mother know that youre out and i can chat with you baby flirt a little maybe does your mother know that youre out take it easy take it easy better slow down girl thats no way to go does your mother know take it easy take it easy try to cool it girl take it nice and slow does your mother know well i can dance with you honey if you think its funny does your mother know that youre out and i can chat with you baby flirt a little maybe does your mother know that youre out'"
      ]
     },
     "execution_count": 75,
     "metadata": {},
     "output_type": "execute_result"
    }
   ],
   "source": [
    "song_rec['song Lyrics'][13]"
   ]
  },
  {
   "cell_type": "code",
   "execution_count": 84,
   "metadata": {},
   "outputs": [
    {
     "data": {
      "text/html": [
       "<div>\n",
       "<style scoped>\n",
       "    .dataframe tbody tr th:only-of-type {\n",
       "        vertical-align: middle;\n",
       "    }\n",
       "\n",
       "    .dataframe tbody tr th {\n",
       "        vertical-align: top;\n",
       "    }\n",
       "\n",
       "    .dataframe thead th {\n",
       "        text-align: right;\n",
       "    }\n",
       "</style>\n",
       "<table border=\"1\" class=\"dataframe\">\n",
       "  <thead>\n",
       "    <tr style=\"text-align: right;\">\n",
       "      <th></th>\n",
       "      <th>artist_name</th>\n",
       "      <th>song_name</th>\n",
       "      <th>song Lyrics</th>\n",
       "    </tr>\n",
       "  </thead>\n",
       "  <tbody>\n",
       "    <tr>\n",
       "      <th>0</th>\n",
       "      <td>ABBA</td>\n",
       "      <td>ahes my kind of girl</td>\n",
       "      <td>look at her face its a wonderful face and it m...</td>\n",
       "    </tr>\n",
       "    <tr>\n",
       "      <th>1</th>\n",
       "      <td>ABBA</td>\n",
       "      <td>andante andante</td>\n",
       "      <td>take it easy with me please touch me gently li...</td>\n",
       "    </tr>\n",
       "    <tr>\n",
       "      <th>2</th>\n",
       "      <td>ABBA</td>\n",
       "      <td>as good as new</td>\n",
       "      <td>ill never know why i had to go why i had to pu...</td>\n",
       "    </tr>\n",
       "    <tr>\n",
       "      <th>3</th>\n",
       "      <td>ABBA</td>\n",
       "      <td>bang</td>\n",
       "      <td>making somebody happy is a question of give an...</td>\n",
       "    </tr>\n",
       "    <tr>\n",
       "      <th>4</th>\n",
       "      <td>ABBA</td>\n",
       "      <td>bangaboomerang</td>\n",
       "      <td>making somebody happy is a question of give an...</td>\n",
       "    </tr>\n",
       "  </tbody>\n",
       "</table>\n",
       "</div>"
      ],
      "text/plain": [
       "  artist_name             song_name  \\\n",
       "0        ABBA  ahes my kind of girl   \n",
       "1        ABBA       andante andante   \n",
       "2        ABBA        as good as new   \n",
       "3        ABBA                  bang   \n",
       "4        ABBA        bangaboomerang   \n",
       "\n",
       "                                         song Lyrics  \n",
       "0  look at her face its a wonderful face and it m...  \n",
       "1  take it easy with me please touch me gently li...  \n",
       "2  ill never know why i had to go why i had to pu...  \n",
       "3  making somebody happy is a question of give an...  \n",
       "4  making somebody happy is a question of give an...  "
      ]
     },
     "execution_count": 84,
     "metadata": {},
     "output_type": "execute_result"
    }
   ],
   "source": [
    "song_rec.head()"
   ]
  },
  {
   "cell_type": "code",
   "execution_count": 83,
   "metadata": {},
   "outputs": [
    {
     "data": {
      "text/plain": [
       "'ABBA'"
      ]
     },
     "execution_count": 83,
     "metadata": {},
     "output_type": "execute_result"
    }
   ],
   "source": [
    "song_rec['artist_name'][]"
   ]
  },
  {
   "cell_type": "code",
   "execution_count": 85,
   "metadata": {},
   "outputs": [],
   "source": [
    "from nltk.stem import PorterStemmer\n",
    "\n",
    "# Initialize the PorterStemmer\n",
    "stemmer = PorterStemmer()\n",
    "\n",
    "# Function to apply stemming\n",
    "def apply_stemming(text):\n",
    "    words = text.split()  # Split text into individual words\n",
    "    stemmed_words = [stemmer.stem(word) for word in words]  # Apply stemming to each word\n",
    "    return \" \".join(stemmed_words)  # Rejoin words back into a string\n",
    "\n",
    "# Apply stemming function to the 'reviews' column\n",
    "song_rec['song Lyrics'] = song_rec['song Lyrics'].apply(apply_stemming)"
   ]
  },
  {
   "cell_type": "code",
   "execution_count": 86,
   "metadata": {},
   "outputs": [
    {
     "data": {
      "text/html": [
       "<div>\n",
       "<style scoped>\n",
       "    .dataframe tbody tr th:only-of-type {\n",
       "        vertical-align: middle;\n",
       "    }\n",
       "\n",
       "    .dataframe tbody tr th {\n",
       "        vertical-align: top;\n",
       "    }\n",
       "\n",
       "    .dataframe thead th {\n",
       "        text-align: right;\n",
       "    }\n",
       "</style>\n",
       "<table border=\"1\" class=\"dataframe\">\n",
       "  <thead>\n",
       "    <tr style=\"text-align: right;\">\n",
       "      <th></th>\n",
       "      <th>artist_name</th>\n",
       "      <th>song_name</th>\n",
       "      <th>song Lyrics</th>\n",
       "    </tr>\n",
       "  </thead>\n",
       "  <tbody>\n",
       "    <tr>\n",
       "      <th>0</th>\n",
       "      <td>ABBA</td>\n",
       "      <td>ahes my kind of girl</td>\n",
       "      <td>look at her face it a wonder face and it mean ...</td>\n",
       "    </tr>\n",
       "    <tr>\n",
       "      <th>1</th>\n",
       "      <td>ABBA</td>\n",
       "      <td>andante andante</td>\n",
       "      <td>take it easi with me pleas touch me gentli lik...</td>\n",
       "    </tr>\n",
       "    <tr>\n",
       "      <th>2</th>\n",
       "      <td>ABBA</td>\n",
       "      <td>as good as new</td>\n",
       "      <td>ill never know whi i had to go whi i had to pu...</td>\n",
       "    </tr>\n",
       "    <tr>\n",
       "      <th>3</th>\n",
       "      <td>ABBA</td>\n",
       "      <td>bang</td>\n",
       "      <td>make somebodi happi is a question of give and ...</td>\n",
       "    </tr>\n",
       "    <tr>\n",
       "      <th>4</th>\n",
       "      <td>ABBA</td>\n",
       "      <td>bangaboomerang</td>\n",
       "      <td>make somebodi happi is a question of give and ...</td>\n",
       "    </tr>\n",
       "    <tr>\n",
       "      <th>...</th>\n",
       "      <td>...</td>\n",
       "      <td>...</td>\n",
       "      <td>...</td>\n",
       "    </tr>\n",
       "    <tr>\n",
       "      <th>57645</th>\n",
       "      <td>Ziggy Marley</td>\n",
       "      <td>good old days</td>\n",
       "      <td>iri day come on play let the angel fli let the...</td>\n",
       "    </tr>\n",
       "    <tr>\n",
       "      <th>57646</th>\n",
       "      <td>Ziggy Marley</td>\n",
       "      <td>hand to mouth</td>\n",
       "      <td>power to the worker more power power to the wo...</td>\n",
       "    </tr>\n",
       "    <tr>\n",
       "      <th>57647</th>\n",
       "      <td>Zwan</td>\n",
       "      <td>come with me</td>\n",
       "      <td>all you need is someth ill believ flashlight i...</td>\n",
       "    </tr>\n",
       "    <tr>\n",
       "      <th>57648</th>\n",
       "      <td>Zwan</td>\n",
       "      <td>desire</td>\n",
       "      <td>northern star am i frighten where can i go to ...</td>\n",
       "    </tr>\n",
       "    <tr>\n",
       "      <th>57649</th>\n",
       "      <td>Zwan</td>\n",
       "      <td>heartsong</td>\n",
       "      <td>come in make yourself at home im a bit late ha...</td>\n",
       "    </tr>\n",
       "  </tbody>\n",
       "</table>\n",
       "<p>57650 rows × 3 columns</p>\n",
       "</div>"
      ],
      "text/plain": [
       "        artist_name             song_name  \\\n",
       "0              ABBA  ahes my kind of girl   \n",
       "1              ABBA       andante andante   \n",
       "2              ABBA        as good as new   \n",
       "3              ABBA                  bang   \n",
       "4              ABBA        bangaboomerang   \n",
       "...             ...                   ...   \n",
       "57645  Ziggy Marley         good old days   \n",
       "57646  Ziggy Marley         hand to mouth   \n",
       "57647          Zwan          come with me   \n",
       "57648          Zwan                desire   \n",
       "57649          Zwan             heartsong   \n",
       "\n",
       "                                             song Lyrics  \n",
       "0      look at her face it a wonder face and it mean ...  \n",
       "1      take it easi with me pleas touch me gentli lik...  \n",
       "2      ill never know whi i had to go whi i had to pu...  \n",
       "3      make somebodi happi is a question of give and ...  \n",
       "4      make somebodi happi is a question of give and ...  \n",
       "...                                                  ...  \n",
       "57645  iri day come on play let the angel fli let the...  \n",
       "57646  power to the worker more power power to the wo...  \n",
       "57647  all you need is someth ill believ flashlight i...  \n",
       "57648  northern star am i frighten where can i go to ...  \n",
       "57649  come in make yourself at home im a bit late ha...  \n",
       "\n",
       "[57650 rows x 3 columns]"
      ]
     },
     "execution_count": 86,
     "metadata": {},
     "output_type": "execute_result"
    }
   ],
   "source": [
    "song_rec"
   ]
  },
  {
   "cell_type": "code",
   "execution_count": 87,
   "metadata": {},
   "outputs": [
    {
     "data": {
      "text/plain": [
       "'look at her face it a wonder face and it mean someth special to me look at the way that she smile when she see me how lucki can one fellow be she just my kind of girl she make me feel fine who could ever believ that she could be mine she just my kind of girl without her im blue and if she ever leav me what could i do what could i do and when we go for a walk in the park and she hold me and squeez my hand well go on walk for hour and talk about all the thing that we plan she just my kind of girl she make me feel fine who could ever believ that she could be mine she just my kind of girl without her im blue and if she ever leav me what could i do what could i do'"
      ]
     },
     "execution_count": 87,
     "metadata": {},
     "output_type": "execute_result"
    }
   ],
   "source": [
    "song_rec['song Lyrics'][0]"
   ]
  },
  {
   "cell_type": "code",
   "execution_count": null,
   "metadata": {},
   "outputs": [],
   "source": []
  }
 ],
 "metadata": {
  "kernelspec": {
   "display_name": "venv",
   "language": "python",
   "name": "python3"
  },
  "language_info": {
   "codemirror_mode": {
    "name": "ipython",
    "version": 3
   },
   "file_extension": ".py",
   "mimetype": "text/x-python",
   "name": "python",
   "nbconvert_exporter": "python",
   "pygments_lexer": "ipython3",
   "version": "3.10.16"
  }
 },
 "nbformat": 4,
 "nbformat_minor": 2
}
