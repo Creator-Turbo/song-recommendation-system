{
 "cells": [
  {
   "cell_type": "markdown",
   "metadata": {},
   "source": [
    "song recommendation system"
   ]
  },
  {
   "cell_type": "code",
   "execution_count": 1,
   "metadata": {},
   "outputs": [],
   "source": [
    "import pandas as pd\n",
    "import numpy as np\n",
    "from sklearn.metrics.pairwise import cosine_similarity\n",
    "from ydata_profiling import ProfileReport\n",
    "\n",
    "\n",
    "# text preprocessing \n",
    "import re\n",
    "import string\n",
    "from sklearn.feature_extraction.text import TfidfVectorizer\n",
    "import nltk\n",
    "from nltk.corpus import stopwords\n",
    "from nltk.tokenize import word_tokenize\n",
    "from nltk.stem import WordNetLemmatizer\n",
    "\n",
    "## dorp the model in pickle \n",
    "import pickle\n"
   ]
  },
  {
   "cell_type": "markdown",
   "metadata": {},
   "source": [
    "#  Load the dataset"
   ]
  },
  {
   "cell_type": "code",
   "execution_count": 2,
   "metadata": {},
   "outputs": [],
   "source": [
    "# Load the dataset (Replace 'songs.csv' with your actual dataset)\n",
    "song_rec = pd.read_csv('D:\\\\song-recommendation-system\\\\data\\\\spotify_millsongdata.csv',nrows=5000)"
   ]
  },
  {
   "cell_type": "code",
   "execution_count": 3,
   "metadata": {},
   "outputs": [
    {
     "data": {
      "text/html": [
       "<div>\n",
       "<style scoped>\n",
       "    .dataframe tbody tr th:only-of-type {\n",
       "        vertical-align: middle;\n",
       "    }\n",
       "\n",
       "    .dataframe tbody tr th {\n",
       "        vertical-align: top;\n",
       "    }\n",
       "\n",
       "    .dataframe thead th {\n",
       "        text-align: right;\n",
       "    }\n",
       "</style>\n",
       "<table border=\"1\" class=\"dataframe\">\n",
       "  <thead>\n",
       "    <tr style=\"text-align: right;\">\n",
       "      <th></th>\n",
       "      <th>artist</th>\n",
       "      <th>song</th>\n",
       "      <th>link</th>\n",
       "      <th>text</th>\n",
       "    </tr>\n",
       "  </thead>\n",
       "  <tbody>\n",
       "    <tr>\n",
       "      <th>0</th>\n",
       "      <td>ABBA</td>\n",
       "      <td>Ahe's My Kind Of Girl</td>\n",
       "      <td>/a/abba/ahes+my+kind+of+girl_20598417.html</td>\n",
       "      <td>Look at her face, it's a wonderful face  \\r\\nA...</td>\n",
       "    </tr>\n",
       "    <tr>\n",
       "      <th>1</th>\n",
       "      <td>ABBA</td>\n",
       "      <td>Andante, Andante</td>\n",
       "      <td>/a/abba/andante+andante_20002708.html</td>\n",
       "      <td>Take it easy with me, please  \\r\\nTouch me gen...</td>\n",
       "    </tr>\n",
       "    <tr>\n",
       "      <th>2</th>\n",
       "      <td>ABBA</td>\n",
       "      <td>As Good As New</td>\n",
       "      <td>/a/abba/as+good+as+new_20003033.html</td>\n",
       "      <td>I'll never know why I had to go  \\r\\nWhy I had...</td>\n",
       "    </tr>\n",
       "    <tr>\n",
       "      <th>3</th>\n",
       "      <td>ABBA</td>\n",
       "      <td>Bang</td>\n",
       "      <td>/a/abba/bang_20598415.html</td>\n",
       "      <td>Making somebody happy is a question of give an...</td>\n",
       "    </tr>\n",
       "    <tr>\n",
       "      <th>4</th>\n",
       "      <td>ABBA</td>\n",
       "      <td>Bang-A-Boomerang</td>\n",
       "      <td>/a/abba/bang+a+boomerang_20002668.html</td>\n",
       "      <td>Making somebody happy is a question of give an...</td>\n",
       "    </tr>\n",
       "  </tbody>\n",
       "</table>\n",
       "</div>"
      ],
      "text/plain": [
       "  artist                   song                                        link  \\\n",
       "0   ABBA  Ahe's My Kind Of Girl  /a/abba/ahes+my+kind+of+girl_20598417.html   \n",
       "1   ABBA       Andante, Andante       /a/abba/andante+andante_20002708.html   \n",
       "2   ABBA         As Good As New        /a/abba/as+good+as+new_20003033.html   \n",
       "3   ABBA                   Bang                  /a/abba/bang_20598415.html   \n",
       "4   ABBA       Bang-A-Boomerang      /a/abba/bang+a+boomerang_20002668.html   \n",
       "\n",
       "                                                text  \n",
       "0  Look at her face, it's a wonderful face  \\r\\nA...  \n",
       "1  Take it easy with me, please  \\r\\nTouch me gen...  \n",
       "2  I'll never know why I had to go  \\r\\nWhy I had...  \n",
       "3  Making somebody happy is a question of give an...  \n",
       "4  Making somebody happy is a question of give an...  "
      ]
     },
     "execution_count": 3,
     "metadata": {},
     "output_type": "execute_result"
    }
   ],
   "source": [
    "song_rec.head()"
   ]
  },
  {
   "cell_type": "code",
   "execution_count": 4,
   "metadata": {},
   "outputs": [],
   "source": [
    "song_rec = song_rec.rename(columns={'text': 'song Lyrics', 'song': 'song_name','artist':'artist_name'})"
   ]
  },
  {
   "cell_type": "code",
   "execution_count": 5,
   "metadata": {},
   "outputs": [
    {
     "data": {
      "text/plain": [
       "(5000, 4)"
      ]
     },
     "execution_count": 5,
     "metadata": {},
     "output_type": "execute_result"
    }
   ],
   "source": [
    "song_rec.shape "
   ]
  },
  {
   "cell_type": "code",
   "execution_count": 6,
   "metadata": {},
   "outputs": [
    {
     "name": "stdout",
     "output_type": "stream",
     "text": [
      "<class 'pandas.core.frame.DataFrame'>\n",
      "RangeIndex: 5000 entries, 0 to 4999\n",
      "Data columns (total 4 columns):\n",
      " #   Column       Non-Null Count  Dtype \n",
      "---  ------       --------------  ----- \n",
      " 0   artist_name  5000 non-null   object\n",
      " 1   song_name    5000 non-null   object\n",
      " 2   link         5000 non-null   object\n",
      " 3   song Lyrics  5000 non-null   object\n",
      "dtypes: object(4)\n",
      "memory usage: 156.4+ KB\n"
     ]
    }
   ],
   "source": [
    "song_rec.info()"
   ]
  },
  {
   "cell_type": "code",
   "execution_count": 7,
   "metadata": {},
   "outputs": [
    {
     "name": "stdout",
     "output_type": "stream",
     "text": [
      "Total Missing Values: 0\n"
     ]
    }
   ],
   "source": [
    "total_nulls = song_rec.isnull().sum().sum()\n",
    "print(f\"Total Missing Values: {total_nulls}\")\n"
   ]
  },
  {
   "cell_type": "code",
   "execution_count": 8,
   "metadata": {},
   "outputs": [
    {
     "name": "stdout",
     "output_type": "stream",
     "text": [
      "Total Duplicate Rows: 0\n"
     ]
    }
   ],
   "source": [
    "\n",
    "# Check for duplicate rows\n",
    "duplicate_count = song_rec.duplicated().sum()\n",
    "print(f\"Total Duplicate Rows: {duplicate_count}\")"
   ]
  },
  {
   "cell_type": "code",
   "execution_count": 9,
   "metadata": {},
   "outputs": [],
   "source": [
    "\n",
    "# Drop a single column\n",
    "song_rec = song_rec.drop(columns=['link'])\n"
   ]
  },
  {
   "cell_type": "markdown",
   "metadata": {},
   "source": [
    "Text preprocessing "
   ]
  },
  {
   "cell_type": "code",
   "execution_count": 10,
   "metadata": {},
   "outputs": [],
   "source": [
    "# lower casing \n",
    "song_rec['song Lyrics'] = song_rec['song Lyrics'].str.lower()\n",
    "# song_rec['song_name'] = song_rec['song_name'].str.lower()"
   ]
  },
  {
   "cell_type": "code",
   "execution_count": 11,
   "metadata": {},
   "outputs": [
    {
     "data": {
      "text/plain": [
       "\"here we are, seven days  \\r\\nand seven nights of empty tries  \\r\\nit's ritual, habitual  \\r\\nbut it's never gonna work this time  \\r\\n  \\r\\nwe're to the point of no return  \\r\\nand along the way the only thing we've learned  \\r\\nis how to hurt each other  \\r\\n  \\r\\ni'm looking back and wondering why  \\r\\nit took so long to realize  \\r\\nthat nothing's changed, it never will  \\r\\nall these years of standing still  \\r\\nand still we stay in all this pain  \\r\\nand nothing's gonna make it go away  \\r\\n  \\r\\ni don't wanna wait another minute  \\r\\nput me out of my misery  \\r\\ni can read your mind baby you're not in it  \\r\\nand we're not what we used to be  \\r\\nno you wouldn't have to lie to me  \\r\\nif you would only let me go  \\r\\nand i don't wanna wait another minute to hear  \\r\\nsomething that i already know  \\r\\ni know, i know, i know  \\r\\nsomething that i already know  \\r\\ni know, i know, i know  \\r\\n  \\r\\nso save your voice  \\r\\ndon't waste your breath  \\r\\ncan't you see we're at the end  \\r\\nand this goodbye is permanent  \\r\\nso wish me well and try to forget  \\r\\n  \\r\\nand all the fights  \\r\\nand all the ways  \\r\\nwe almost made it  \\r\\nbut we never did  \\r\\nand it's finally come to this  \\r\\n  \\r\\ni don't wanna wait another minute  \\r\\nput me out of my misery  \\r\\ni can read your mind baby you're not in it  \\r\\nand we're not what we used to be  \\r\\nno you wouldn't have to lie to me  \\r\\nif you would only let me go  \\r\\nand i don't wanna wait another minute to hear  \\r\\nsomething that i already know  \\r\\n  \\r\\nwe can not hide what we've become  \\r\\nso sick and tired of being numb  \\r\\nit's done, it's done  \\r\\nit's done  \\r\\n  \\r\\ni don't wanna wait another minute  \\r\\nput me out of my misery  \\r\\ni can read your mind baby you're not in it  \\r\\nand we're not what we used to be  \\r\\nno, you wouldn't have to lie to me  \\r\\nif you would only let me go  \\r\\nand i don't wanna wait another minute to hear  \\r\\nsomething that i already know  \\r\\ni know, i know, i know  \\r\\nsomething that i already know  \\r\\ni know, i know, i know  \\r\\nsomething that i already know  \\r\\n'cause i know, i know, i know  \\r\\n'cause i know, 'cause i know\\r\\n\\r\\n\""
      ]
     },
     "execution_count": 11,
     "metadata": {},
     "output_type": "execute_result"
    }
   ],
   "source": [
    "song_rec['song Lyrics'][1000]"
   ]
  },
  {
   "cell_type": "code",
   "execution_count": 12,
   "metadata": {},
   "outputs": [
    {
     "name": "stdout",
     "output_type": "stream",
     "text": [
      "!\"#$%&'()*+,-./:;<=>?@[\\]^_`{|}~\n"
     ]
    }
   ],
   "source": [
    "import string\n",
    "exclude  = string.punctuation\n",
    "print(exclude)"
   ]
  },
  {
   "cell_type": "code",
   "execution_count": 13,
   "metadata": {},
   "outputs": [],
   "source": [
    "# Remove punctuation from the 'Text' column\n",
    "song_rec['song Lyrics'] = song_rec['song Lyrics'].apply(lambda x: x.translate(str.maketrans('', '', string.punctuation)))\n",
    "# song_rec['song_name'] = song_rec['song_name'].apply(lambda x: x.translate(str.maketrans('', '', string.punctuation)))"
   ]
  },
  {
   "cell_type": "code",
   "execution_count": 14,
   "metadata": {},
   "outputs": [
    {
     "data": {
      "text/html": [
       "<div>\n",
       "<style scoped>\n",
       "    .dataframe tbody tr th:only-of-type {\n",
       "        vertical-align: middle;\n",
       "    }\n",
       "\n",
       "    .dataframe tbody tr th {\n",
       "        vertical-align: top;\n",
       "    }\n",
       "\n",
       "    .dataframe thead th {\n",
       "        text-align: right;\n",
       "    }\n",
       "</style>\n",
       "<table border=\"1\" class=\"dataframe\">\n",
       "  <thead>\n",
       "    <tr style=\"text-align: right;\">\n",
       "      <th></th>\n",
       "      <th>artist_name</th>\n",
       "      <th>song_name</th>\n",
       "      <th>song Lyrics</th>\n",
       "    </tr>\n",
       "  </thead>\n",
       "  <tbody>\n",
       "    <tr>\n",
       "      <th>0</th>\n",
       "      <td>ABBA</td>\n",
       "      <td>Ahe's My Kind Of Girl</td>\n",
       "      <td>look at her face its a wonderful face  \\r\\nand...</td>\n",
       "    </tr>\n",
       "    <tr>\n",
       "      <th>1</th>\n",
       "      <td>ABBA</td>\n",
       "      <td>Andante, Andante</td>\n",
       "      <td>take it easy with me please  \\r\\ntouch me gent...</td>\n",
       "    </tr>\n",
       "    <tr>\n",
       "      <th>2</th>\n",
       "      <td>ABBA</td>\n",
       "      <td>As Good As New</td>\n",
       "      <td>ill never know why i had to go  \\r\\nwhy i had ...</td>\n",
       "    </tr>\n",
       "    <tr>\n",
       "      <th>3</th>\n",
       "      <td>ABBA</td>\n",
       "      <td>Bang</td>\n",
       "      <td>making somebody happy is a question of give an...</td>\n",
       "    </tr>\n",
       "    <tr>\n",
       "      <th>4</th>\n",
       "      <td>ABBA</td>\n",
       "      <td>Bang-A-Boomerang</td>\n",
       "      <td>making somebody happy is a question of give an...</td>\n",
       "    </tr>\n",
       "  </tbody>\n",
       "</table>\n",
       "</div>"
      ],
      "text/plain": [
       "  artist_name              song_name  \\\n",
       "0        ABBA  Ahe's My Kind Of Girl   \n",
       "1        ABBA       Andante, Andante   \n",
       "2        ABBA         As Good As New   \n",
       "3        ABBA                   Bang   \n",
       "4        ABBA       Bang-A-Boomerang   \n",
       "\n",
       "                                         song Lyrics  \n",
       "0  look at her face its a wonderful face  \\r\\nand...  \n",
       "1  take it easy with me please  \\r\\ntouch me gent...  \n",
       "2  ill never know why i had to go  \\r\\nwhy i had ...  \n",
       "3  making somebody happy is a question of give an...  \n",
       "4  making somebody happy is a question of give an...  "
      ]
     },
     "execution_count": 14,
     "metadata": {},
     "output_type": "execute_result"
    }
   ],
   "source": [
    "song_rec.head()"
   ]
  },
  {
   "cell_type": "code",
   "execution_count": 15,
   "metadata": {},
   "outputs": [
    {
     "data": {
      "text/plain": [
       "0       look at her face its a wonderful face  \\r\\nand...\n",
       "1       take it easy with me please  \\r\\ntouch me gent...\n",
       "2       ill never know why i had to go  \\r\\nwhy i had ...\n",
       "3       making somebody happy is a question of give an...\n",
       "4       making somebody happy is a question of give an...\n",
       "                              ...                        \n",
       "4995    you wont take my love for tender  \\r\\nyou can ...\n",
       "4996    ive looked at it every way i can  \\r\\nfrom und...\n",
       "4997    i wont walk with my head bowed  \\r\\nbe on beyo...\n",
       "4998    dressed up like a dogs dinner  \\r\\nbutter woul...\n",
       "4999    now theres newsprint all over your face  \\r\\nw...\n",
       "Name: song Lyrics, Length: 5000, dtype: object"
      ]
     },
     "execution_count": 15,
     "metadata": {},
     "output_type": "execute_result"
    }
   ],
   "source": [
    "song_rec['song Lyrics']"
   ]
  },
  {
   "cell_type": "code",
   "execution_count": 16,
   "metadata": {},
   "outputs": [
    {
     "data": {
      "text/plain": [
       "'look at her face its a wonderful face  \\r\\nand it means something special to me  \\r\\nlook at the way that she smiles when she sees me  \\r\\nhow lucky can one fellow be  \\r\\n  \\r\\nshes just my kind of girl she makes me feel fine  \\r\\nwho could ever believe that she could be mine  \\r\\nshes just my kind of girl without her im blue  \\r\\nand if she ever leaves me what could i do what could i do  \\r\\n  \\r\\nand when we go for a walk in the park  \\r\\nand she holds me and squeezes my hand  \\r\\nwell go on walking for hours and talking  \\r\\nabout all the things that we plan  \\r\\n  \\r\\nshes just my kind of girl she makes me feel fine  \\r\\nwho could ever believe that she could be mine  \\r\\nshes just my kind of girl without her im blue  \\r\\nand if she ever leaves me what could i do what could i do\\r\\n\\r\\n'"
      ]
     },
     "execution_count": 16,
     "metadata": {},
     "output_type": "execute_result"
    }
   ],
   "source": [
    "song_rec['song Lyrics'][0]"
   ]
  },
  {
   "cell_type": "code",
   "execution_count": 17,
   "metadata": {},
   "outputs": [],
   "source": [
    "# Function to clean spaces and newlines\n",
    "def clean_text(text):\n",
    "    return re.sub(r'\\s+', ' ', text).strip()  # Replaces multiple spaces/newlines with a single space\n",
    "\n",
    "# Apply function to the column\n",
    "song_rec['song Lyrics'] = song_rec['song Lyrics'].apply(clean_text)"
   ]
  },
  {
   "cell_type": "code",
   "execution_count": 18,
   "metadata": {},
   "outputs": [
    {
     "data": {
      "text/plain": [
       "'look at her face its a wonderful face and it means something special to me look at the way that she smiles when she sees me how lucky can one fellow be shes just my kind of girl she makes me feel fine who could ever believe that she could be mine shes just my kind of girl without her im blue and if she ever leaves me what could i do what could i do and when we go for a walk in the park and she holds me and squeezes my hand well go on walking for hours and talking about all the things that we plan shes just my kind of girl she makes me feel fine who could ever believe that she could be mine shes just my kind of girl without her im blue and if she ever leaves me what could i do what could i do'"
      ]
     },
     "execution_count": 18,
     "metadata": {},
     "output_type": "execute_result"
    }
   ],
   "source": [
    "song_rec['song Lyrics'][0]"
   ]
  },
  {
   "cell_type": "code",
   "execution_count": 19,
   "metadata": {},
   "outputs": [
    {
     "data": {
      "text/plain": [
       "'youre so hot teasing me so youre blue but i cant take a chance on a chick like you thats something i couldnt do theres that look in your eyes i can read in your face that your feelings are driving you wild ah but girl youre only a child well i can dance with you honey if you think its funny does your mother know that youre out and i can chat with you baby flirt a little maybe does your mother know that youre out take it easy take it easy better slow down girl thats no way to go does your mother know take it easy take it easy try to cool it girl take it nice and slow does your mother know i can see what you want but you seem pretty young to be searching for that kind of fun so maybe im not the one now youre so cute i like your style and i know what you mean when you give me a flash of that smile smile but girl youre only a child well i can dance with you honey if you think its funny does your mother know that youre out and i can chat with you baby flirt a little maybe does your mother know that youre out take it easy take it easy better slow down girl thats no way to go does your mother know take it easy take it easy try to cool it girl take it nice and slow does your mother know well i can dance with you honey if you think its funny does your mother know that youre out and i can chat with you baby flirt a little maybe does your mother know that youre out'"
      ]
     },
     "execution_count": 19,
     "metadata": {},
     "output_type": "execute_result"
    }
   ],
   "source": [
    "song_rec['song Lyrics'][13]"
   ]
  },
  {
   "cell_type": "code",
   "execution_count": 20,
   "metadata": {},
   "outputs": [
    {
     "data": {
      "text/html": [
       "<div>\n",
       "<style scoped>\n",
       "    .dataframe tbody tr th:only-of-type {\n",
       "        vertical-align: middle;\n",
       "    }\n",
       "\n",
       "    .dataframe tbody tr th {\n",
       "        vertical-align: top;\n",
       "    }\n",
       "\n",
       "    .dataframe thead th {\n",
       "        text-align: right;\n",
       "    }\n",
       "</style>\n",
       "<table border=\"1\" class=\"dataframe\">\n",
       "  <thead>\n",
       "    <tr style=\"text-align: right;\">\n",
       "      <th></th>\n",
       "      <th>artist_name</th>\n",
       "      <th>song_name</th>\n",
       "      <th>song Lyrics</th>\n",
       "    </tr>\n",
       "  </thead>\n",
       "  <tbody>\n",
       "    <tr>\n",
       "      <th>0</th>\n",
       "      <td>ABBA</td>\n",
       "      <td>Ahe's My Kind Of Girl</td>\n",
       "      <td>look at her face its a wonderful face and it m...</td>\n",
       "    </tr>\n",
       "    <tr>\n",
       "      <th>1</th>\n",
       "      <td>ABBA</td>\n",
       "      <td>Andante, Andante</td>\n",
       "      <td>take it easy with me please touch me gently li...</td>\n",
       "    </tr>\n",
       "    <tr>\n",
       "      <th>2</th>\n",
       "      <td>ABBA</td>\n",
       "      <td>As Good As New</td>\n",
       "      <td>ill never know why i had to go why i had to pu...</td>\n",
       "    </tr>\n",
       "    <tr>\n",
       "      <th>3</th>\n",
       "      <td>ABBA</td>\n",
       "      <td>Bang</td>\n",
       "      <td>making somebody happy is a question of give an...</td>\n",
       "    </tr>\n",
       "    <tr>\n",
       "      <th>4</th>\n",
       "      <td>ABBA</td>\n",
       "      <td>Bang-A-Boomerang</td>\n",
       "      <td>making somebody happy is a question of give an...</td>\n",
       "    </tr>\n",
       "  </tbody>\n",
       "</table>\n",
       "</div>"
      ],
      "text/plain": [
       "  artist_name              song_name  \\\n",
       "0        ABBA  Ahe's My Kind Of Girl   \n",
       "1        ABBA       Andante, Andante   \n",
       "2        ABBA         As Good As New   \n",
       "3        ABBA                   Bang   \n",
       "4        ABBA       Bang-A-Boomerang   \n",
       "\n",
       "                                         song Lyrics  \n",
       "0  look at her face its a wonderful face and it m...  \n",
       "1  take it easy with me please touch me gently li...  \n",
       "2  ill never know why i had to go why i had to pu...  \n",
       "3  making somebody happy is a question of give an...  \n",
       "4  making somebody happy is a question of give an...  "
      ]
     },
     "execution_count": 20,
     "metadata": {},
     "output_type": "execute_result"
    }
   ],
   "source": [
    "song_rec.head()"
   ]
  },
  {
   "cell_type": "code",
   "execution_count": 21,
   "metadata": {},
   "outputs": [],
   "source": [
    "from nltk.stem import PorterStemmer\n",
    "\n",
    "# Initialize the PorterStemmer\n",
    "stemmer = PorterStemmer()\n",
    "\n",
    "# Function to apply stemming\n",
    "def apply_stemming(text):\n",
    "    words = text.split()  # Split text into individual words\n",
    "    stemmed_words = [stemmer.stem(word) for word in words]  # Apply stemming to each word\n",
    "    return \" \".join(stemmed_words)  # Rejoin words back into a string\n",
    "\n",
    "# Apply stemming function to the 'reviews' column\n",
    "song_rec['song Lyrics'] = song_rec['song Lyrics'].apply(apply_stemming)"
   ]
  },
  {
   "cell_type": "code",
   "execution_count": 22,
   "metadata": {},
   "outputs": [
    {
     "data": {
      "text/html": [
       "<div>\n",
       "<style scoped>\n",
       "    .dataframe tbody tr th:only-of-type {\n",
       "        vertical-align: middle;\n",
       "    }\n",
       "\n",
       "    .dataframe tbody tr th {\n",
       "        vertical-align: top;\n",
       "    }\n",
       "\n",
       "    .dataframe thead th {\n",
       "        text-align: right;\n",
       "    }\n",
       "</style>\n",
       "<table border=\"1\" class=\"dataframe\">\n",
       "  <thead>\n",
       "    <tr style=\"text-align: right;\">\n",
       "      <th></th>\n",
       "      <th>artist_name</th>\n",
       "      <th>song_name</th>\n",
       "      <th>song Lyrics</th>\n",
       "    </tr>\n",
       "  </thead>\n",
       "  <tbody>\n",
       "    <tr>\n",
       "      <th>0</th>\n",
       "      <td>ABBA</td>\n",
       "      <td>Ahe's My Kind Of Girl</td>\n",
       "      <td>look at her face it a wonder face and it mean ...</td>\n",
       "    </tr>\n",
       "    <tr>\n",
       "      <th>1</th>\n",
       "      <td>ABBA</td>\n",
       "      <td>Andante, Andante</td>\n",
       "      <td>take it easi with me pleas touch me gentli lik...</td>\n",
       "    </tr>\n",
       "    <tr>\n",
       "      <th>2</th>\n",
       "      <td>ABBA</td>\n",
       "      <td>As Good As New</td>\n",
       "      <td>ill never know whi i had to go whi i had to pu...</td>\n",
       "    </tr>\n",
       "    <tr>\n",
       "      <th>3</th>\n",
       "      <td>ABBA</td>\n",
       "      <td>Bang</td>\n",
       "      <td>make somebodi happi is a question of give and ...</td>\n",
       "    </tr>\n",
       "    <tr>\n",
       "      <th>4</th>\n",
       "      <td>ABBA</td>\n",
       "      <td>Bang-A-Boomerang</td>\n",
       "      <td>make somebodi happi is a question of give and ...</td>\n",
       "    </tr>\n",
       "    <tr>\n",
       "      <th>...</th>\n",
       "      <td>...</td>\n",
       "      <td>...</td>\n",
       "      <td>...</td>\n",
       "    </tr>\n",
       "    <tr>\n",
       "      <th>4995</th>\n",
       "      <td>Elvis Costello</td>\n",
       "      <td>Love For Tender</td>\n",
       "      <td>you wont take my love for tender you can put y...</td>\n",
       "    </tr>\n",
       "    <tr>\n",
       "      <th>4996</th>\n",
       "      <td>Elvis Costello</td>\n",
       "      <td>Love Went Mad</td>\n",
       "      <td>ive look at it everi way i can from under and ...</td>\n",
       "    </tr>\n",
       "    <tr>\n",
       "      <th>4997</th>\n",
       "      <td>Elvis Costello</td>\n",
       "      <td>Lover's Walk</td>\n",
       "      <td>i wont walk with my head bow be on beyond caut...</td>\n",
       "    </tr>\n",
       "    <tr>\n",
       "      <th>4998</th>\n",
       "      <td>Elvis Costello</td>\n",
       "      <td>Luxembourg</td>\n",
       "      <td>dress up like a dog dinner butter wouldnt melt...</td>\n",
       "    </tr>\n",
       "    <tr>\n",
       "      <th>4999</th>\n",
       "      <td>Elvis Costello</td>\n",
       "      <td>Men Called Uncle</td>\n",
       "      <td>now there newsprint all over your face well ma...</td>\n",
       "    </tr>\n",
       "  </tbody>\n",
       "</table>\n",
       "<p>5000 rows × 3 columns</p>\n",
       "</div>"
      ],
      "text/plain": [
       "         artist_name              song_name  \\\n",
       "0               ABBA  Ahe's My Kind Of Girl   \n",
       "1               ABBA       Andante, Andante   \n",
       "2               ABBA         As Good As New   \n",
       "3               ABBA                   Bang   \n",
       "4               ABBA       Bang-A-Boomerang   \n",
       "...              ...                    ...   \n",
       "4995  Elvis Costello        Love For Tender   \n",
       "4996  Elvis Costello          Love Went Mad   \n",
       "4997  Elvis Costello           Lover's Walk   \n",
       "4998  Elvis Costello             Luxembourg   \n",
       "4999  Elvis Costello       Men Called Uncle   \n",
       "\n",
       "                                            song Lyrics  \n",
       "0     look at her face it a wonder face and it mean ...  \n",
       "1     take it easi with me pleas touch me gentli lik...  \n",
       "2     ill never know whi i had to go whi i had to pu...  \n",
       "3     make somebodi happi is a question of give and ...  \n",
       "4     make somebodi happi is a question of give and ...  \n",
       "...                                                 ...  \n",
       "4995  you wont take my love for tender you can put y...  \n",
       "4996  ive look at it everi way i can from under and ...  \n",
       "4997  i wont walk with my head bow be on beyond caut...  \n",
       "4998  dress up like a dog dinner butter wouldnt melt...  \n",
       "4999  now there newsprint all over your face well ma...  \n",
       "\n",
       "[5000 rows x 3 columns]"
      ]
     },
     "execution_count": 22,
     "metadata": {},
     "output_type": "execute_result"
    }
   ],
   "source": [
    "song_rec"
   ]
  },
  {
   "cell_type": "code",
   "execution_count": 23,
   "metadata": {},
   "outputs": [
    {
     "data": {
      "text/plain": [
       "'look at her face it a wonder face and it mean someth special to me look at the way that she smile when she see me how lucki can one fellow be she just my kind of girl she make me feel fine who could ever believ that she could be mine she just my kind of girl without her im blue and if she ever leav me what could i do what could i do and when we go for a walk in the park and she hold me and squeez my hand well go on walk for hour and talk about all the thing that we plan she just my kind of girl she make me feel fine who could ever believ that she could be mine she just my kind of girl without her im blue and if she ever leav me what could i do what could i do'"
      ]
     },
     "execution_count": 23,
     "metadata": {},
     "output_type": "execute_result"
    }
   ],
   "source": [
    "song_rec['song Lyrics'][0]"
   ]
  },
  {
   "cell_type": "code",
   "execution_count": 24,
   "metadata": {},
   "outputs": [],
   "source": [
    "# from sklearn.feature_extraction.text import CountVectorizer\n",
    "# cv = CountVectorizer(max_features=5000,stop_words='english')"
   ]
  },
  {
   "cell_type": "code",
   "execution_count": 25,
   "metadata": {},
   "outputs": [],
   "source": [
    "# vector = cv.fit_transform(song_rec['song Lyrics'])"
   ]
  },
  {
   "cell_type": "code",
   "execution_count": 26,
   "metadata": {},
   "outputs": [],
   "source": [
    "# vector.shape "
   ]
  },
  {
   "cell_type": "code",
   "execution_count": 27,
   "metadata": {},
   "outputs": [],
   "source": [
    "from sklearn.feature_extraction.text import TfidfVectorizer\n",
    "from sklearn.metrics.pairwise import cosine_similarity\n",
    "tfidvector = TfidfVectorizer(analyzer='word',stop_words='english')\n",
    "matrix = tfidvector.fit_transform(song_rec['song Lyrics'])\n",
    "similarity = cosine_similarity(matrix)"
   ]
  },
  {
   "cell_type": "code",
   "execution_count": 30,
   "metadata": {},
   "outputs": [
    {
     "name": "stdout",
     "output_type": "stream",
     "text": [
      "['Ma Baker', \"Ma' Dear Ma' Dear\", 'Juice', 'It Had To Be You', 'Come Home Johnny Birdie', 'Je Ne Vous Oublie Pas', 'Monday', 'New Shoes', 'Spaced', 'At My Window', 'Feel Like A Number', 'On Fire', \"Di Fronte All'amore\", 'Good Enough', 'I Feel Good', 'Gotta Move', 'Good To My Baby', 'Brand New', 'Five Years', 'Feel Good']\n"
     ]
    }
   ],
   "source": [
    "def recommendation(song_df):\n",
    "    # Check if the song exists in the dataset\n",
    "    if song_df not in song_rec['song_name'].values:\n",
    "        return f\"Error: '{song_df}' not found in the dataset.\"\n",
    "\n",
    "    idx = song_rec[song_rec['song_name'] == song_df].index[0]\n",
    "    distances = sorted(list(enumerate(similarity[idx])), reverse=True, key=lambda x: x[1])\n",
    "\n",
    "    songs = []\n",
    "    for m_id in distances[1:21]:  # Get top 20 recommendations\n",
    "        songs.append(song_rec.iloc[m_id[0]]['song_name'])  # Fix column reference\n",
    "\n",
    "    return songs\n",
    "\n",
    "# Test the function\n",
    "print(recommendation('As Good As New'))\n"
   ]
  },
  {
   "cell_type": "code",
   "execution_count": 31,
   "metadata": {},
   "outputs": [
    {
     "data": {
      "text/plain": [
       "['Ma Baker',\n",
       " \"Ma' Dear Ma' Dear\",\n",
       " 'Juice',\n",
       " 'It Had To Be You',\n",
       " 'Come Home Johnny Birdie',\n",
       " 'Je Ne Vous Oublie Pas',\n",
       " 'Monday',\n",
       " 'New Shoes',\n",
       " 'Spaced',\n",
       " 'At My Window',\n",
       " 'Feel Like A Number',\n",
       " 'On Fire',\n",
       " \"Di Fronte All'amore\",\n",
       " 'Good Enough',\n",
       " 'I Feel Good',\n",
       " 'Gotta Move',\n",
       " 'Good To My Baby',\n",
       " 'Brand New',\n",
       " 'Five Years',\n",
       " 'Feel Good']"
      ]
     },
     "execution_count": 31,
     "metadata": {},
     "output_type": "execute_result"
    }
   ],
   "source": [
    "(recommendation('As Good As New'))"
   ]
  },
  {
   "cell_type": "code",
   "execution_count": 32,
   "metadata": {},
   "outputs": [],
   "source": [
    "import pickle\n",
    "import os "
   ]
  },
  {
   "cell_type": "code",
   "execution_count": 33,
   "metadata": {},
   "outputs": [
    {
     "data": {
      "text/plain": [
       "'d:\\\\song-recommendation-system\\\\notebook'"
      ]
     },
     "execution_count": 33,
     "metadata": {},
     "output_type": "execute_result"
    }
   ],
   "source": [
    "%pwd"
   ]
  },
  {
   "cell_type": "code",
   "execution_count": 34,
   "metadata": {},
   "outputs": [
    {
     "data": {
      "text/plain": [
       "'d:\\\\song-recommendation-system'"
      ]
     },
     "execution_count": 34,
     "metadata": {},
     "output_type": "execute_result"
    }
   ],
   "source": [
    "os.chdir(\"../\")\n",
    "%pwd"
   ]
  },
  {
   "cell_type": "code",
   "execution_count": 35,
   "metadata": {},
   "outputs": [
    {
     "name": "stdout",
     "output_type": "stream",
     "text": [
      "Pickle files saved successfully in 'model' directory.\n"
     ]
    }
   ],
   "source": [
    "import os\n",
    "import pickle\n",
    "\n",
    "# Create 'model' directory if it doesn't exist\n",
    "os.makedirs('model', exist_ok=True)\n",
    "\n",
    "# Save the files inside the 'model' directory\n",
    "pickle.dump(song_rec, open('model/song_list.pkl', 'wb'))\n",
    "pickle.dump(similarity, open('model/similarity.pkl', 'wb'))\n",
    "\n",
    "print(\"Pickle files saved successfully in 'model' directory.\")"
   ]
  },
  {
   "cell_type": "code",
   "execution_count": null,
   "metadata": {},
   "outputs": [],
   "source": []
  }
 ],
 "metadata": {
  "kernelspec": {
   "display_name": "Python 3",
   "language": "python",
   "name": "python3"
  },
  "language_info": {
   "codemirror_mode": {
    "name": "ipython",
    "version": 3
   },
   "file_extension": ".py",
   "mimetype": "text/x-python",
   "name": "python",
   "nbconvert_exporter": "python",
   "pygments_lexer": "ipython3",
   "version": "3.10.16"
  }
 },
 "nbformat": 4,
 "nbformat_minor": 2
}
